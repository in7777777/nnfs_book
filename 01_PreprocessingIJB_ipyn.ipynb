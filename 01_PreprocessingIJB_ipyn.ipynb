{
  "cells": [
    {
      "cell_type": "markdown",
      "metadata": {
        "id": "view-in-github",
        "colab_type": "text"
      },
      "source": [
        "<a href=\"https://colab.research.google.com/github/in7777777/nnfs_book/blob/main/01_PreprocessingIJB_ipyn.ipynb\" target=\"_parent\"><img src=\"https://colab.research.google.com/assets/colab-badge.svg\" alt=\"Open In Colab\"/></a>"
      ]
    },
    {
      "cell_type": "markdown",
      "id": "dental-clear",
      "metadata": {
        "id": "dental-clear"
      },
      "source": [
        "## Introduction\n",
        "\n",
        "First, you need to obtain and preprocess the data for the segmentation task\n",
        "The data is provided by the medical segmentation decathlon challenge(http://medicaldecathlon.com/) <br/>\n",
        "You can directly download the full body cts and segmentation maps from: <br/>\n",
        "https://drive.google.com/file/d/1I1LR7XjyEZ-VBQ-Xruh31V7xExMjlVvi/view?usp=sharing\n",
        "\n",
        "(Data License: CC-BY-SA 4.0, https://creativecommons.org/licenses/by-sa/4.0/)"
      ]
    },
    {
      "cell_type": "markdown",
      "source": [],
      "metadata": {
        "id": "WkQs1MtR0qUz"
      },
      "id": "WkQs1MtR0qUz"
    },
    {
      "cell_type": "markdown",
      "id": "exotic-continuity",
      "metadata": {
        "id": "exotic-continuity"
      },
      "source": [
        "# **1. Imports:**\n",
        "Task: Import the necessary libraries:"
      ]
    },
    {
      "cell_type": "markdown",
      "source": [
        "*1.1. List of necessary libraries:*"
      ],
      "metadata": {
        "id": "obX3y7OG04Vj"
      },
      "id": "obX3y7OG04Vj"
    },
    {
      "cell_type": "markdown",
      "source": [
        "*   Pathlib for convenient path handling;\n",
        "*   Numpy for storing the actual images;\n",
        "*   cv2 for directly resizing the images;\n",
        "*   Pandas to read the provided labels;\n",
        "*   Matplotlib for visualizing some images;\n",
        "*   tqdm for nice progress bar.\n",
        "*   NiBabel reads and converts between NIfTI and several other common neuroimaging file formats, including ANALYZE;\n",
        "*   dicom2nifti converst DICOM images to NIfTI format\n",
        "*   Pydicom for reading dicom files;\n",
        "*   NiLearn designed to provide statistical analysis and machine learning tools for neuroimaging data;\n",
        "*   scipy.ndimage functions for multi-dimensional image processing."
      ],
      "metadata": {
        "id": "1TnBE_2606uU"
      },
      "id": "1TnBE_2606uU"
    },
    {
      "cell_type": "markdown",
      "source": [
        "*1.2. Import of necessary libraries:*"
      ],
      "metadata": {
        "id": "q_qHeDhh2FbI"
      },
      "id": "q_qHeDhh2FbI"
    },
    {
      "cell_type": "code",
      "source": [
        "pip install pydicom"
      ],
      "metadata": {
        "colab": {
          "base_uri": "https://localhost:8080/"
        },
        "id": "UmkjFvv_SdHu",
        "outputId": "faad5551-1e27-415c-cdf4-88270d76a42d"
      },
      "execution_count": 1,
      "outputs": [
        {
          "output_type": "stream",
          "name": "stdout",
          "text": [
            "Collecting pydicom\n",
            "  Downloading pydicom-2.4.4-py3-none-any.whl (1.8 MB)\n",
            "\u001b[2K     \u001b[90m━━━━━━━━━━━━━━━━━━━━━━━━━━━━━━━━━━━━━━━━\u001b[0m \u001b[32m1.8/1.8 MB\u001b[0m \u001b[31m13.7 MB/s\u001b[0m eta \u001b[36m0:00:00\u001b[0m\n",
            "\u001b[?25hInstalling collected packages: pydicom\n",
            "Successfully installed pydicom-2.4.4\n"
          ]
        }
      ],
      "id": "UmkjFvv_SdHu"
    },
    {
      "cell_type": "code",
      "source": [
        "from pathlib import Path\n",
        "!pip install dicom2nifti\n",
        "!pip install nibabel\n",
        "!pip install nilearn\n",
        "import dicom2nifti\n",
        "import nibabel as nib\n",
        "import nilearn as nil\n",
        "import scipy.ndimage as ndi\n",
        "import pydicom\n",
        "import numpy as np\n",
        "import cv2\n",
        "import pandas as pd\n",
        "import matplotlib.pyplot as plt\n",
        "from tqdm.notebook import tqdm\n",
        "import os\n",
        "import tarfile"
      ],
      "metadata": {
        "colab": {
          "base_uri": "https://localhost:8080/"
        },
        "id": "OY9xltZ42gio",
        "outputId": "05b09f41-073b-43e2-feed-915cf68e2f60"
      },
      "id": "OY9xltZ42gio",
      "execution_count": 2,
      "outputs": [
        {
          "output_type": "stream",
          "name": "stdout",
          "text": [
            "Collecting dicom2nifti\n",
            "  Downloading dicom2nifti-2.4.11-py3-none-any.whl (43 kB)\n",
            "\u001b[2K     \u001b[90m━━━━━━━━━━━━━━━━━━━━━━━━━━━━━━━━━━━━━━━━\u001b[0m \u001b[32m43.6/43.6 kB\u001b[0m \u001b[31m1.5 MB/s\u001b[0m eta \u001b[36m0:00:00\u001b[0m\n",
            "\u001b[?25hRequirement already satisfied: nibabel in /usr/local/lib/python3.10/dist-packages (from dicom2nifti) (4.0.2)\n",
            "Requirement already satisfied: numpy in /usr/local/lib/python3.10/dist-packages (from dicom2nifti) (1.25.2)\n",
            "Requirement already satisfied: scipy in /usr/local/lib/python3.10/dist-packages (from dicom2nifti) (1.11.4)\n",
            "Requirement already satisfied: pydicom>=2.2.0 in /usr/local/lib/python3.10/dist-packages (from dicom2nifti) (2.4.4)\n",
            "Collecting python-gdcm (from dicom2nifti)\n",
            "  Downloading python_gdcm-3.0.24.1-cp310-cp310-manylinux_2_17_x86_64.manylinux2014_x86_64.whl (13.1 MB)\n",
            "\u001b[2K     \u001b[90m━━━━━━━━━━━━━━━━━━━━━━━━━━━━━━━━━━━━━━━━\u001b[0m \u001b[32m13.1/13.1 MB\u001b[0m \u001b[31m72.5 MB/s\u001b[0m eta \u001b[36m0:00:00\u001b[0m\n",
            "\u001b[?25hRequirement already satisfied: packaging>=17.0 in /usr/local/lib/python3.10/dist-packages (from nibabel->dicom2nifti) (24.1)\n",
            "Requirement already satisfied: setuptools in /usr/local/lib/python3.10/dist-packages (from nibabel->dicom2nifti) (67.7.2)\n",
            "Installing collected packages: python-gdcm, dicom2nifti\n",
            "Successfully installed dicom2nifti-2.4.11 python-gdcm-3.0.24.1\n",
            "Requirement already satisfied: nibabel in /usr/local/lib/python3.10/dist-packages (4.0.2)\n",
            "Requirement already satisfied: numpy>=1.17 in /usr/local/lib/python3.10/dist-packages (from nibabel) (1.25.2)\n",
            "Requirement already satisfied: packaging>=17.0 in /usr/local/lib/python3.10/dist-packages (from nibabel) (24.1)\n",
            "Requirement already satisfied: setuptools in /usr/local/lib/python3.10/dist-packages (from nibabel) (67.7.2)\n",
            "Collecting nilearn\n",
            "  Downloading nilearn-0.10.4-py3-none-any.whl (10.4 MB)\n",
            "\u001b[2K     \u001b[90m━━━━━━━━━━━━━━━━━━━━━━━━━━━━━━━━━━━━━━━━\u001b[0m \u001b[32m10.4/10.4 MB\u001b[0m \u001b[31m62.6 MB/s\u001b[0m eta \u001b[36m0:00:00\u001b[0m\n",
            "\u001b[?25hRequirement already satisfied: joblib>=1.0.0 in /usr/local/lib/python3.10/dist-packages (from nilearn) (1.4.2)\n",
            "Requirement already satisfied: lxml in /usr/local/lib/python3.10/dist-packages (from nilearn) (4.9.4)\n",
            "Requirement already satisfied: nibabel>=4.0.0 in /usr/local/lib/python3.10/dist-packages (from nilearn) (4.0.2)\n",
            "Requirement already satisfied: numpy>=1.19.0 in /usr/local/lib/python3.10/dist-packages (from nilearn) (1.25.2)\n",
            "Requirement already satisfied: packaging in /usr/local/lib/python3.10/dist-packages (from nilearn) (24.1)\n",
            "Requirement already satisfied: pandas>=1.1.5 in /usr/local/lib/python3.10/dist-packages (from nilearn) (2.0.3)\n",
            "Requirement already satisfied: requests>=2.25.0 in /usr/local/lib/python3.10/dist-packages (from nilearn) (2.31.0)\n",
            "Requirement already satisfied: scikit-learn>=1.0.0 in /usr/local/lib/python3.10/dist-packages (from nilearn) (1.2.2)\n",
            "Requirement already satisfied: scipy>=1.8.0 in /usr/local/lib/python3.10/dist-packages (from nilearn) (1.11.4)\n",
            "Requirement already satisfied: setuptools in /usr/local/lib/python3.10/dist-packages (from nibabel>=4.0.0->nilearn) (67.7.2)\n",
            "Requirement already satisfied: python-dateutil>=2.8.2 in /usr/local/lib/python3.10/dist-packages (from pandas>=1.1.5->nilearn) (2.8.2)\n",
            "Requirement already satisfied: pytz>=2020.1 in /usr/local/lib/python3.10/dist-packages (from pandas>=1.1.5->nilearn) (2023.4)\n",
            "Requirement already satisfied: tzdata>=2022.1 in /usr/local/lib/python3.10/dist-packages (from pandas>=1.1.5->nilearn) (2024.1)\n",
            "Requirement already satisfied: charset-normalizer<4,>=2 in /usr/local/lib/python3.10/dist-packages (from requests>=2.25.0->nilearn) (3.3.2)\n",
            "Requirement already satisfied: idna<4,>=2.5 in /usr/local/lib/python3.10/dist-packages (from requests>=2.25.0->nilearn) (3.7)\n",
            "Requirement already satisfied: urllib3<3,>=1.21.1 in /usr/local/lib/python3.10/dist-packages (from requests>=2.25.0->nilearn) (2.0.7)\n",
            "Requirement already satisfied: certifi>=2017.4.17 in /usr/local/lib/python3.10/dist-packages (from requests>=2.25.0->nilearn) (2024.7.4)\n",
            "Requirement already satisfied: threadpoolctl>=2.0.0 in /usr/local/lib/python3.10/dist-packages (from scikit-learn>=1.0.0->nilearn) (3.5.0)\n",
            "Requirement already satisfied: six>=1.5 in /usr/local/lib/python3.10/dist-packages (from python-dateutil>=2.8.2->pandas>=1.1.5->nilearn) (1.16.0)\n",
            "Installing collected packages: nilearn\n",
            "Successfully installed nilearn-0.10.4\n"
          ]
        }
      ]
    },
    {
      "cell_type": "markdown",
      "source": [
        "# **2. File download and upload:**"
      ],
      "metadata": {
        "id": "5egnRnPIbKrK"
      },
      "id": "5egnRnPIbKrK"
    },
    {
      "cell_type": "markdown",
      "source": [
        "*2.1. The files were DOWNLOADED from the Lecturer's Google Drive accounts [[patelkrishat], [miki.micki]] to my Laptop LOCAL DISK and UPLOADED to my Google Drive [johnboscondaruhutse].\n",
        "Mounting the Drive:*\n",
        "\n",
        "\n",
        "*   Note: It was not possible to directly reach the\n",
        "working directory we proceeded by in the:\n",
        "*   * First step mount \"/content/drive\" alone\n",
        "*   * Second step go for \"/content/drive/MyDrive\""
      ],
      "metadata": {
        "id": "7FHHfISx3Np1"
      },
      "id": "7FHHfISx3Np1"
    },
    {
      "cell_type": "markdown",
      "source": [
        "*2.1.i. Mounting the Drive: \"/content/drive\"*\n",
        "\n",
        "\n"
      ],
      "metadata": {
        "id": "fPrpqX8HV6AW"
      },
      "id": "fPrpqX8HV6AW"
    },
    {
      "cell_type": "code",
      "source": [
        "from google.colab import drive\n",
        "drive.mount('/content/drive')"
      ],
      "metadata": {
        "colab": {
          "base_uri": "https://localhost:8080/",
          "height": 309
        },
        "id": "aVKKr9ha3n1g",
        "outputId": "642ed0d9-2a80-48f4-9c44-4aa9e68033ba"
      },
      "id": "aVKKr9ha3n1g",
      "execution_count": 1,
      "outputs": [
        {
          "output_type": "error",
          "ename": "MessageError",
          "evalue": "Error: credential propagation was unsuccessful",
          "traceback": [
            "\u001b[0;31m---------------------------------------------------------------------------\u001b[0m",
            "\u001b[0;31mMessageError\u001b[0m                              Traceback (most recent call last)",
            "\u001b[0;32m<ipython-input-1-d5df0069828e>\u001b[0m in \u001b[0;36m<cell line: 2>\u001b[0;34m()\u001b[0m\n\u001b[1;32m      1\u001b[0m \u001b[0;32mfrom\u001b[0m \u001b[0mgoogle\u001b[0m\u001b[0;34m.\u001b[0m\u001b[0mcolab\u001b[0m \u001b[0;32mimport\u001b[0m \u001b[0mdrive\u001b[0m\u001b[0;34m\u001b[0m\u001b[0;34m\u001b[0m\u001b[0m\n\u001b[0;32m----> 2\u001b[0;31m \u001b[0mdrive\u001b[0m\u001b[0;34m.\u001b[0m\u001b[0mmount\u001b[0m\u001b[0;34m(\u001b[0m\u001b[0;34m'/content/drive'\u001b[0m\u001b[0;34m)\u001b[0m\u001b[0;34m\u001b[0m\u001b[0;34m\u001b[0m\u001b[0m\n\u001b[0m",
            "\u001b[0;32m/usr/local/lib/python3.10/dist-packages/google/colab/drive.py\u001b[0m in \u001b[0;36mmount\u001b[0;34m(mountpoint, force_remount, timeout_ms, readonly)\u001b[0m\n\u001b[1;32m     98\u001b[0m \u001b[0;32mdef\u001b[0m \u001b[0mmount\u001b[0m\u001b[0;34m(\u001b[0m\u001b[0mmountpoint\u001b[0m\u001b[0;34m,\u001b[0m \u001b[0mforce_remount\u001b[0m\u001b[0;34m=\u001b[0m\u001b[0;32mFalse\u001b[0m\u001b[0;34m,\u001b[0m \u001b[0mtimeout_ms\u001b[0m\u001b[0;34m=\u001b[0m\u001b[0;36m120000\u001b[0m\u001b[0;34m,\u001b[0m \u001b[0mreadonly\u001b[0m\u001b[0;34m=\u001b[0m\u001b[0;32mFalse\u001b[0m\u001b[0;34m)\u001b[0m\u001b[0;34m:\u001b[0m\u001b[0;34m\u001b[0m\u001b[0;34m\u001b[0m\u001b[0m\n\u001b[1;32m     99\u001b[0m   \u001b[0;34m\"\"\"Mount your Google Drive at the specified mountpoint path.\"\"\"\u001b[0m\u001b[0;34m\u001b[0m\u001b[0;34m\u001b[0m\u001b[0m\n\u001b[0;32m--> 100\u001b[0;31m   return _mount(\n\u001b[0m\u001b[1;32m    101\u001b[0m       \u001b[0mmountpoint\u001b[0m\u001b[0;34m,\u001b[0m\u001b[0;34m\u001b[0m\u001b[0;34m\u001b[0m\u001b[0m\n\u001b[1;32m    102\u001b[0m       \u001b[0mforce_remount\u001b[0m\u001b[0;34m=\u001b[0m\u001b[0mforce_remount\u001b[0m\u001b[0;34m,\u001b[0m\u001b[0;34m\u001b[0m\u001b[0;34m\u001b[0m\u001b[0m\n",
            "\u001b[0;32m/usr/local/lib/python3.10/dist-packages/google/colab/drive.py\u001b[0m in \u001b[0;36m_mount\u001b[0;34m(mountpoint, force_remount, timeout_ms, ephemeral, readonly)\u001b[0m\n\u001b[1;32m    131\u001b[0m   )\n\u001b[1;32m    132\u001b[0m   \u001b[0;32mif\u001b[0m \u001b[0mephemeral\u001b[0m\u001b[0;34m:\u001b[0m\u001b[0;34m\u001b[0m\u001b[0;34m\u001b[0m\u001b[0m\n\u001b[0;32m--> 133\u001b[0;31m     _message.blocking_request(\n\u001b[0m\u001b[1;32m    134\u001b[0m         \u001b[0;34m'request_auth'\u001b[0m\u001b[0;34m,\u001b[0m\u001b[0;34m\u001b[0m\u001b[0;34m\u001b[0m\u001b[0m\n\u001b[1;32m    135\u001b[0m         \u001b[0mrequest\u001b[0m\u001b[0;34m=\u001b[0m\u001b[0;34m{\u001b[0m\u001b[0;34m'authType'\u001b[0m\u001b[0;34m:\u001b[0m \u001b[0;34m'dfs_ephemeral'\u001b[0m\u001b[0;34m}\u001b[0m\u001b[0;34m,\u001b[0m\u001b[0;34m\u001b[0m\u001b[0;34m\u001b[0m\u001b[0m\n",
            "\u001b[0;32m/usr/local/lib/python3.10/dist-packages/google/colab/_message.py\u001b[0m in \u001b[0;36mblocking_request\u001b[0;34m(request_type, request, timeout_sec, parent)\u001b[0m\n\u001b[1;32m    174\u001b[0m       \u001b[0mrequest_type\u001b[0m\u001b[0;34m,\u001b[0m \u001b[0mrequest\u001b[0m\u001b[0;34m,\u001b[0m \u001b[0mparent\u001b[0m\u001b[0;34m=\u001b[0m\u001b[0mparent\u001b[0m\u001b[0;34m,\u001b[0m \u001b[0mexpect_reply\u001b[0m\u001b[0;34m=\u001b[0m\u001b[0;32mTrue\u001b[0m\u001b[0;34m\u001b[0m\u001b[0;34m\u001b[0m\u001b[0m\n\u001b[1;32m    175\u001b[0m   )\n\u001b[0;32m--> 176\u001b[0;31m   \u001b[0;32mreturn\u001b[0m \u001b[0mread_reply_from_input\u001b[0m\u001b[0;34m(\u001b[0m\u001b[0mrequest_id\u001b[0m\u001b[0;34m,\u001b[0m \u001b[0mtimeout_sec\u001b[0m\u001b[0;34m)\u001b[0m\u001b[0;34m\u001b[0m\u001b[0;34m\u001b[0m\u001b[0m\n\u001b[0m",
            "\u001b[0;32m/usr/local/lib/python3.10/dist-packages/google/colab/_message.py\u001b[0m in \u001b[0;36mread_reply_from_input\u001b[0;34m(message_id, timeout_sec)\u001b[0m\n\u001b[1;32m    101\u001b[0m     ):\n\u001b[1;32m    102\u001b[0m       \u001b[0;32mif\u001b[0m \u001b[0;34m'error'\u001b[0m \u001b[0;32min\u001b[0m \u001b[0mreply\u001b[0m\u001b[0;34m:\u001b[0m\u001b[0;34m\u001b[0m\u001b[0;34m\u001b[0m\u001b[0m\n\u001b[0;32m--> 103\u001b[0;31m         \u001b[0;32mraise\u001b[0m \u001b[0mMessageError\u001b[0m\u001b[0;34m(\u001b[0m\u001b[0mreply\u001b[0m\u001b[0;34m[\u001b[0m\u001b[0;34m'error'\u001b[0m\u001b[0;34m]\u001b[0m\u001b[0;34m)\u001b[0m\u001b[0;34m\u001b[0m\u001b[0;34m\u001b[0m\u001b[0m\n\u001b[0m\u001b[1;32m    104\u001b[0m       \u001b[0;32mreturn\u001b[0m \u001b[0mreply\u001b[0m\u001b[0;34m.\u001b[0m\u001b[0mget\u001b[0m\u001b[0;34m(\u001b[0m\u001b[0;34m'data'\u001b[0m\u001b[0;34m,\u001b[0m \u001b[0;32mNone\u001b[0m\u001b[0;34m)\u001b[0m\u001b[0;34m\u001b[0m\u001b[0;34m\u001b[0m\u001b[0m\n\u001b[1;32m    105\u001b[0m \u001b[0;34m\u001b[0m\u001b[0m\n",
            "\u001b[0;31mMessageError\u001b[0m: Error: credential propagation was unsuccessful"
          ]
        }
      ]
    },
    {
      "cell_type": "markdown",
      "source": [
        "*2.1.ii. Change the current working directory: \"/content/drive\" to \"/content/drive/MyDrive\":*\n",
        "\n",
        "\n"
      ],
      "metadata": {
        "id": "T5m1WO6YYk30"
      },
      "id": "T5m1WO6YYk30"
    },
    {
      "cell_type": "code",
      "source": [
        "# Change the current working directory\n",
        "os.chdir('/content/drive/MyDrive')"
      ],
      "metadata": {
        "id": "-Uq6oH1qMcMn"
      },
      "id": "-Uq6oH1qMcMn",
      "execution_count": 5,
      "outputs": []
    },
    {
      "cell_type": "markdown",
      "id": "sapphire-issue",
      "metadata": {
        "id": "sapphire-issue"
      },
      "source": [
        "# **3. Inspection:**\n",
        "**Task: Define the paths to images and labels**"
      ]
    },
    {
      "cell_type": "markdown",
      "source": [
        "*3.1. File path and the extraction directory:*"
      ],
      "metadata": {
        "id": "wBOVYXcRHOY3"
      },
      "id": "wBOVYXcRHOY3"
    },
    {
      "cell_type": "code",
      "source": [
        "tar_file_path = 'Task06_Lung.tar'\n",
        "extraction_dir = 'Task06_Lung'"
      ],
      "metadata": {
        "id": "vebBA9mwHZef"
      },
      "id": "vebBA9mwHZef",
      "execution_count": 6,
      "outputs": []
    },
    {
      "cell_type": "markdown",
      "source": [
        "*3.2. File extraction:*"
      ],
      "metadata": {
        "id": "yT82SeKjaS7e"
      },
      "id": "yT82SeKjaS7e"
    },
    {
      "cell_type": "markdown",
      "source": [
        "**Unzipping the Task06_Lung.tar**"
      ],
      "metadata": {
        "id": "mT9zT43T4uKq"
      },
      "id": "mT9zT43T4uKq"
    },
    {
      "cell_type": "code",
      "source": [
        "if os.path.isfile(tar_file_path):\n",
        "    # Open and extract the tar file\n",
        "    with tarfile.open(tar_file_path, 'r:') as tar:\n",
        "        tar.extractall(path=extraction_dir)\n",
        "    print(f'Extracted to {extraction_dir}')\n",
        "else:\n",
        "    print(f'The file {tar_file_path} does not exist.')"
      ],
      "metadata": {
        "colab": {
          "base_uri": "https://localhost:8080/"
        },
        "id": "KHIZuwFDHfN6",
        "outputId": "bae4adcc-4375-4553-937d-972f15f2e9be"
      },
      "id": "KHIZuwFDHfN6",
      "execution_count": 7,
      "outputs": [
        {
          "output_type": "stream",
          "name": "stdout",
          "text": [
            "The file Task06_Lung.tar does not exist.\n"
          ]
        }
      ]
    },
    {
      "cell_type": "markdown",
      "source": [
        "# **4. Define Helper Functions:**\n"
      ],
      "metadata": {
        "id": "1L-Mec4xlQIl"
      },
      "id": "1L-Mec4xlQIl"
    },
    {
      "cell_type": "markdown",
      "id": "satellite-polish",
      "metadata": {
        "id": "satellite-polish"
      },
      "source": [
        "**Task: Load a sample NIfTI [ standing for Neuroimaging Informatics Technology Initiative] and its corresponding label mask**<br />\n",
        "Hint: You might want to define a helper function to make your life easier"
      ]
    },
    {
      "cell_type": "markdown",
      "source": [
        "*4.1. Load NIfTI File and Mask:*"
      ],
      "metadata": {
        "id": "4QCgVJZpln7s"
      },
      "id": "4QCgVJZpln7s"
    },
    {
      "cell_type": "code",
      "execution_count": null,
      "id": "likely-sunrise",
      "metadata": {
        "id": "likely-sunrise"
      },
      "outputs": [],
      "source": [
        "def load_nifti(file_path):\n",
        "    img = nib.load(file_path)\n",
        "    data = img.get_fdata()\n",
        "    return img, data"
      ]
    },
    {
      "cell_type": "markdown",
      "source": [
        "*4.2. Find Orientation:*"
      ],
      "metadata": {
        "id": "ENXNPX1CmvQu"
      },
      "id": "ENXNPX1CmvQu"
    },
    {
      "cell_type": "markdown",
      "id": "agreed-wyoming",
      "metadata": {
        "id": "agreed-wyoming"
      },
      "source": [
        "**Task: Find out the orientation**"
      ]
    },
    {
      "cell_type": "code",
      "source": [
        "def find_orientation(nifti_img):\n",
        "    return nib.orientations.aff2axcodes(nifti_img.affine)"
      ],
      "metadata": {
        "id": "TgdX7IV2m2i7"
      },
      "id": "TgdX7IV2m2i7",
      "execution_count": null,
      "outputs": []
    },
    {
      "cell_type": "markdown",
      "source": [
        "*4.3. Plot Image with Ground Truth Overlay:*"
      ],
      "metadata": {
        "id": "LoCDrmWZoU9z"
      },
      "id": "LoCDrmWZoU9z"
    },
    {
      "cell_type": "markdown",
      "id": "optimum-integrity",
      "metadata": {
        "id": "optimum-integrity"
      },
      "source": [
        "**Task: Inspect the loaded data with overlaid Ground Truth tumor segmentation**\n",
        "Hint: Use the axial view (last axis) You may skip every second slice to speed up the process.\n"
      ]
    },
    {
      "cell_type": "code",
      "execution_count": null,
      "id": "hindu-harvey",
      "metadata": {
        "id": "hindu-harvey"
      },
      "outputs": [],
      "source": [
        "def plot_overlay(image_data, mask_data, skip_slices=2):\n",
        "    num_slices = image_data.shape[2]\n",
        "    for i in range(0, num_slices, skip_slices):\n",
        "        plt.figure(figsize=(10, 5))\n",
        "        plt.subplot(1, 2, 1)\n",
        "        plt.imshow(image_data[:, :, i], cmap='gray')\n",
        "        plt.title(f'Image Slice {i}')\n",
        "        plt.axis('off')\n",
        "\n",
        "        plt.subplot(1, 2, 2)\n",
        "        plt.imshow(image_data[:, :, i], cmap='gray')\n",
        "        plt.imshow(mask_data[:, :, i], cmap='jet', alpha=0.5)\n",
        "        plt.title(f'Mask Overlay Slice {i}')\n",
        "        plt.axis('off')\n",
        "\n",
        "        plt.show()"
      ]
    },
    {
      "cell_type": "markdown",
      "id": "mature-colors",
      "metadata": {
        "id": "mature-colors"
      },
      "source": [
        "# **4. Preprocessing:**\n",
        "**Task: Please perform the following preprocessing steps:**\n",
        "\n",
        "1. CT images have a fixed range from -1000 to 3071. **Thus you could normalize by dividing by 3071** <br /> You don't need to compute mean and standard deviation for this task\n",
        "2. As we want to focus on lung tumors, we can crop away parts of the lower abdomen to reduce the complexity and help the network learn. As an example, **you might skip the first 30 slices (from lower abdomen to the neck)** (last axis)\n",
        "3. As we want to tackle this task on a slice level (2D) and not on a subject level (3D) to reduce the computational cost **you should store the preprocessed data as 2d files**, because reading a single slice is much faster than loading the complete NIfTI file.\n",
        "4. Resize the single slices and masks to (256, 256) (when resizing the mask, pass interpolation=cv2.INTER_NEAREST to the resize function to apply nearest neighbour interpolation)\n",
        "\n",
        "Loop over all_files and apply the preprocessing steps. <br />\n",
        "\n",
        "Additionally, please make sure that all scans have the same orientation\n",
        "\n",
        "In the preprocessing loop, you need to create a directory for each subject containg the ct and label slices with identical names. <br />\n",
        "E.g:\n",
        "* 0/data/0.npy\n",
        "* 0/masks/0.npy\n",
        "\n",
        "Store the last 6 subjects as validation data\n",
        "\n",
        "PS: Feel free to try the lung window!"
      ]
    },
    {
      "cell_type": "markdown",
      "source": [
        "*4.1. Normalize, Crop, and Resize:*"
      ],
      "metadata": {
        "id": "1-7U0cBYtVEC"
      },
      "id": "1-7U0cBYtVEC"
    },
    {
      "cell_type": "code",
      "execution_count": null,
      "id": "shared-efficiency",
      "metadata": {
        "id": "shared-efficiency"
      },
      "outputs": [],
      "source": [
        "def preprocess_image(image_data, mask_data, num_slices_to_skip=30, target_size=(256, 256)):\n",
        "    # Normalize the image data\n",
        "    image_data = (image_data - (-1000)) / (3071 + 1000)  # normalize to [0, 1]\n",
        "\n",
        "    # Skip the first 30 slices\n",
        "    image_data = image_data[:, :, num_slices_to_skip:]\n",
        "    mask_data = mask_data[:, :, num_slices_to_skip:]\n",
        "\n",
        "    # Resize the images and masks\n",
        "    num_slices = image_data.shape[2]\n",
        "    preprocessed_images = []\n",
        "    preprocessed_masks = []\n",
        "\n",
        "    for i in range(num_slices):\n",
        "        image_slice = cv2.resize(image_data[:, :, i], target_size, interpolation=cv2.INTER_LINEAR)\n",
        "        mask_slice = cv2.resize(mask_data[:, :, i], target_size, interpolation=cv2.INTER_NEAREST)\n",
        "        preprocessed_images.append(image_slice)\n",
        "        preprocessed_masks.append(mask_slice)\n",
        "\n",
        "    return np.array(preprocessed_images), np.array(preprocessed_masks)"
      ]
    },
    {
      "cell_type": "markdown",
      "source": [
        "*4.2. Save Preprocessed Slices:*"
      ],
      "metadata": {
        "id": "79EctU2btrkT"
      },
      "id": "79EctU2btrkT"
    },
    {
      "cell_type": "code",
      "execution_count": null,
      "id": "suburban-toronto",
      "metadata": {
        "id": "suburban-toronto"
      },
      "outputs": [],
      "source": [
        "def save_slices(images, masks, output_dir, subject_id):\n",
        "    image_dir = os.path.join(output_dir, f\"{subject_id}/data\")\n",
        "    mask_dir = os.path.join(output_dir, f\"{subject_id}/masks\")\n",
        "\n",
        "    os.makedirs(image_dir, exist_ok=True)\n",
        "    os.makedirs(mask_dir, exist_ok=True)\n",
        "\n",
        "    for i in range(images.shape[0]):\n",
        "        np.save(os.path.join(image_dir, f\"{i}.npy\"), images[i])\n",
        "        np.save(os.path.join(mask_dir, f\"{i}.npy\"), masks[i])"
      ]
    },
    {
      "cell_type": "markdown",
      "source": [
        "*4.3. Main Preprocessing Loop:*"
      ],
      "metadata": {
        "id": "p2G9CLAat7OF"
      },
      "id": "p2G9CLAat7OF"
    },
    {
      "cell_type": "code",
      "source": [
        "def main_preprocessing(input_dir, output_dir):\n",
        "    all_files = list(Path(input_dir).glob(\"lung_*\"))\n",
        "\n",
        "    # Split the files into training and validation sets\n",
        "    train_files = all_files[:-6]\n",
        "    validation_files = all_files[-6:]\n",
        "\n",
        "    for subject_id, file_pair in enumerate(tqdm(train_files)):\n",
        "        image_file = file_pair / \"imagesTr\" / \"image.nii.gz\"  # Adjust paths as per actual file structure\n",
        "        mask_file = file_pair / \"labelsTr\" / \"label.nii.gz\"   # Adjust paths as per actual file structure\n",
        "\n",
        "        # Load image and mask\n",
        "        _, image_data = load_nifti(image_file)\n",
        "        _, mask_data = load_nifti(mask_file)\n",
        "\n",
        "        # Preprocess image and mask\n",
        "        preprocessed_images, preprocessed_masks = preprocess_image(image_data, mask_data)\n",
        "\n",
        "        # Save preprocessed slices\n",
        "        save_slices(preprocessed_images, preprocessed_masks, output_dir / \"train\", subject_id)\n",
        "\n",
        "    for subject_id, file_pair in enumerate(tqdm(validation_files)):\n",
        "        image_file = file_pair / \"imagesTr\" / \"image.nii.gz\"  # Adjust paths as per actual file structure\n",
        "        mask_file = file_pair / \"labelsTr\" / \"label.nii.gz\"   # Adjust paths as per actual file structure\n",
        "\n",
        "        # Load image and mask\n",
        "        _, image_data = load_nifti(image_file)\n",
        "        _, mask_data = load_nifti(mask_file)\n",
        "\n",
        "        # Preprocess image and mask\n",
        "        preprocessed_images, preprocessed_masks = preprocess_image(image_data, mask_data)\n",
        "\n",
        "        # Save preprocessed slices\n",
        "        save_slices(preprocessed_images, preprocessed_masks, output_dir / \"validation\", subject_id)\n",
        "\n",
        "# Define file paths and output directory\n",
        "input_dir = 'Task06_Lung'\n",
        "output_dir = Path('Task06_Lung_Preprocessed')\n",
        "\n",
        "# Preprocess and save the data\n",
        "main_preprocessing(input_dir, output_dir)"
      ],
      "metadata": {
        "colab": {
          "base_uri": "https://localhost:8080/",
          "height": 81,
          "referenced_widgets": [
            "1f3ab2bca7d241a397aba80da000bce3",
            "99c71c2d190e4676b4dbac2a7a63a2e9",
            "70556ae55fe74e46ad6e6987807c7841",
            "09a79ed8e0574d62887e60c76e59e8ef",
            "63674eb2d07147dd8e67f862f52c2fc4",
            "7f0ec75423b242c78570b7cad79f5acb",
            "cfb6a9e727714827b5d3dd232f142d95",
            "fdc119249e5b44b393c99d33b22e437e",
            "dc1de9a3e0fb4a1e8dc2458bcad9c3b5",
            "2bb4e0e09fae47bb884c3d2980aa5ae1",
            "4696a388b3554a72b5eae8e4d11903ee",
            "3421ee74745a4adb8f8ffbba4b7aa88d",
            "821803b4243b4e22b0dd1613ff617642",
            "48b9996fbe1d4774963c99aaa6edd194",
            "7d953a832630469dbfe46042e3b71cd9",
            "69bb8aa324274d9ca5c84670bfb68ac4",
            "6dd23075050943ef91bb8f8f103add04",
            "10f0a623525d4975b4dcb0efdaaf3ebf",
            "3afa93322d8c4788b265555a73ef97e7",
            "4e8d7ffd599849268526d8b8160677d8",
            "0e7cbda4408c463db92d466ab576bc0a",
            "f2fbd1938f5e4f02a770b8f82494aa25"
          ]
        },
        "collapsed": true,
        "id": "kJZw1clUuABg",
        "outputId": "7ff7cb3a-46f3-4d94-9bcd-3d4a0d2cc34a"
      },
      "id": "kJZw1clUuABg",
      "execution_count": null,
      "outputs": [
        {
          "output_type": "display_data",
          "data": {
            "text/plain": [
              "0it [00:00, ?it/s]"
            ],
            "application/vnd.jupyter.widget-view+json": {
              "version_major": 2,
              "version_minor": 0,
              "model_id": "1f3ab2bca7d241a397aba80da000bce3"
            }
          },
          "metadata": {}
        },
        {
          "output_type": "display_data",
          "data": {
            "text/plain": [
              "0it [00:00, ?it/s]"
            ],
            "application/vnd.jupyter.widget-view+json": {
              "version_major": 2,
              "version_minor": 0,
              "model_id": "3421ee74745a4adb8f8ffbba4b7aa88d"
            }
          },
          "metadata": {}
        }
      ]
    },
    {
      "cell_type": "markdown",
      "source": [
        "*4.4. Main Preprocessing Loop:*"
      ],
      "metadata": {
        "id": "PID4RgzxuYGy"
      },
      "id": "PID4RgzxuYGy"
    },
    {
      "cell_type": "code",
      "source": [
        "def main_preprocessing(input_dir, output_dir):\n",
        "    all_files = list(Path(input_dir).glob(\"lung_*\"))\n",
        "\n",
        "    # Split the files into training and validation sets\n",
        "    train_files = all_files[:-6]\n",
        "    validation_files = all_files[-6:]\n",
        "\n",
        "    for subject_id, file_pair in enumerate(tqdm(train_files)):\n",
        "        image_file = file_pair / \"imagesTr\" / \"image.nii.gz\"  # Adjust paths as per actual file structure\n",
        "        mask_file = file_pair / \"labelsTr\" / \"label.nii.gz\"   # Adjust paths as per actual file structure\n",
        "\n",
        "        # Load image and mask\n",
        "        _, image_data = load_nifti(image_file)\n",
        "        _, mask_data = load_nifti(mask_file)\n",
        "\n",
        "        # Preprocess image and mask\n",
        "        preprocessed_images, preprocessed_masks = preprocess_image(image_data, mask_data)\n",
        "\n",
        "        # Save preprocessed slices\n",
        "        save_slices(preprocessed_images, preprocessed_masks, output_dir / \"train\", subject_id)\n",
        "\n",
        "    for subject_id, file_pair in enumerate(tqdm(validation_files)):\n",
        "        image_file = file_pair / \"imagesTr\" / \"image.nii.gz\"  # Adjust paths as per actual file structure\n",
        "        mask_file = file_pair / \"labelsTr\" / \"label.nii.gz\"   # Adjust paths as per actual file structure\n",
        "\n",
        "        # Load image and mask\n",
        "        _, image_data = load_nifti(image_file)\n",
        "        _, mask_data = load_nifti(mask_file)\n",
        "\n",
        "        # Preprocess image and mask\n",
        "        preprocessed_images, preprocessed_masks = preprocess_image(image_data, mask_data)\n",
        "\n",
        "        # Save preprocessed slices\n",
        "        save_slices(preprocessed_images, preprocessed_masks, output_dir / \"validation\", subject_id)\n",
        "\n",
        "# Define file paths and output directory\n",
        "input_dir = 'Task06_Lung'\n",
        "output_dir = Path('Task06_Lung_Preprocessed')\n",
        "\n",
        "# Preprocess and save the data\n",
        "main_preprocessing(input_dir, output_dir)"
      ],
      "metadata": {
        "colab": {
          "base_uri": "https://localhost:8080/",
          "height": 81,
          "referenced_widgets": [
            "86a4b19e8e434ae686604d0ca9f53012",
            "523cd08d4ff241f5834dc3d5e30637e3",
            "aa07a0849d53437dabb995bee876d443",
            "383f90b5644c496eb6215d45de896d47",
            "1e66542bc4994fdf8c5591ffd0f249eb",
            "19e949e77d554028a74ee5513218015b",
            "3737dffbb1aa4e9cae9c4a45f6a72e7c",
            "dd0d6ad6031f469da4efd46aae381cee",
            "2db420c5577546569b357db4d3e1b105",
            "e8059bdb951e45babb1779d462539595",
            "2e24e3bb60ea4c3682b9831f083102ce",
            "81577e67243f4a76b1b5cf6807d144b0",
            "2ae84bebbf42404c862d0bb7cd4848d9",
            "5bd740811ae743d6b8fe28f1e1cc42bc",
            "465821a4c5f8491bb3bd844d676a1990",
            "52977ee7badd4cc5ad0da4fd949e6ef4",
            "b149ea65ff944a47ba488d24b04d48fe",
            "9856a21b5b544ec7b607fbb188bc0e4a",
            "2b0a617d5fd84edc86f7b2a06f21e7f3",
            "d9ab3dc78709400c8f62de0cae0bd662",
            "f2613309c47e4424b9f0a6a76c8d48f1",
            "c8b189a0e96b4431b831acdea5ab33d6"
          ]
        },
        "id": "tJzZH50muidV",
        "outputId": "3d4ceed5-1b9f-4ab9-ed7a-8ba27b5c6a57"
      },
      "id": "tJzZH50muidV",
      "execution_count": null,
      "outputs": [
        {
          "output_type": "display_data",
          "data": {
            "text/plain": [
              "0it [00:00, ?it/s]"
            ],
            "application/vnd.jupyter.widget-view+json": {
              "version_major": 2,
              "version_minor": 0,
              "model_id": "86a4b19e8e434ae686604d0ca9f53012"
            }
          },
          "metadata": {}
        },
        {
          "output_type": "display_data",
          "data": {
            "text/plain": [
              "0it [00:00, ?it/s]"
            ],
            "application/vnd.jupyter.widget-view+json": {
              "version_major": 2,
              "version_minor": 0,
              "model_id": "81577e67243f4a76b1b5cf6807d144b0"
            }
          },
          "metadata": {}
        }
      ]
    },
    {
      "cell_type": "markdown",
      "source": [
        "# **5. Validate Preprocessed Data:**"
      ],
      "metadata": {
        "id": "mPa6lsnDvi1s"
      },
      "id": "mPa6lsnDvi1s"
    },
    {
      "cell_type": "markdown",
      "id": "manual-digest",
      "metadata": {
        "id": "manual-digest"
      },
      "source": [
        "**Task: Take a look at your stored files and inspect if everything worked as expected.**"
      ]
    },
    {
      "cell_type": "markdown",
      "source": [
        "*5.1. Inspect Preprocessed Data:*"
      ],
      "metadata": {
        "id": "cuLlJvM6v3QM"
      },
      "id": "cuLlJvM6v3QM"
    },
    {
      "cell_type": "code",
      "execution_count": null,
      "id": "assigned-mountain",
      "metadata": {
        "id": "assigned-mountain"
      },
      "outputs": [],
      "source": [
        "def inspect_preprocessed_data(data_dir):\n",
        "    for subject_dir in Path(data_dir).glob('*'):\n",
        "        data_files = sorted(subject_dir.glob('data/*.npy'))\n",
        "        mask_files = sorted(subject_dir.glob('masks/*.npy'))\n",
        "\n",
        "        for data_file, mask_file in zip(data_files, mask_files):\n",
        "            image_data = np.load(data_file)\n",
        "            mask_data = np.load(mask_file)\n",
        "\n",
        "            plt.figure(figsize=(10, 5))\n",
        "            plt.subplot(1, 2, 1)\n",
        "            plt.imshow(image_data, cmap='gray')\n",
        "            plt.title(f'{data_file.stem} Image')\n",
        "            plt.axis('off')\n",
        "\n",
        "            plt.subplot(1, 2, 2)\n",
        "            plt.imshow(mask_data, cmap='jet', alpha=0.5)\n",
        "            plt.title(f'{mask_file.stem} Mask')\n",
        "            plt.axis('off')\n",
        "\n",
        "            plt.show()\n",
        "\n",
        "# Validate preprocessed data\n",
        "inspect_preprocessed_data(output_dir / \"train\")\n",
        "inspect_preprocessed_data(output_dir / \"validation\")"
      ]
    },
    {
      "cell_type": "code",
      "execution_count": null,
      "id": "quiet-isolation",
      "metadata": {
        "id": "quiet-isolation"
      },
      "outputs": [],
      "source": []
    }
  ],
  "metadata": {
    "kernelspec": {
      "display_name": "Udemy",
      "language": "python",
      "name": "udemy"
    },
    "language_info": {
      "codemirror_mode": {
        "name": "ipython",
        "version": 3
      },
      "file_extension": ".py",
      "mimetype": "text/x-python",
      "name": "python",
      "nbconvert_exporter": "python",
      "pygments_lexer": "ipython3",
      "version": "3.8.0"
    },
    "colab": {
      "provenance": [],
      "include_colab_link": true
    },
    "widgets": {
      "application/vnd.jupyter.widget-state+json": {
        "1f3ab2bca7d241a397aba80da000bce3": {
          "model_module": "@jupyter-widgets/controls",
          "model_name": "HBoxModel",
          "model_module_version": "1.5.0",
          "state": {
            "_dom_classes": [],
            "_model_module": "@jupyter-widgets/controls",
            "_model_module_version": "1.5.0",
            "_model_name": "HBoxModel",
            "_view_count": null,
            "_view_module": "@jupyter-widgets/controls",
            "_view_module_version": "1.5.0",
            "_view_name": "HBoxView",
            "box_style": "",
            "children": [
              "IPY_MODEL_99c71c2d190e4676b4dbac2a7a63a2e9",
              "IPY_MODEL_70556ae55fe74e46ad6e6987807c7841",
              "IPY_MODEL_09a79ed8e0574d62887e60c76e59e8ef"
            ],
            "layout": "IPY_MODEL_63674eb2d07147dd8e67f862f52c2fc4"
          }
        },
        "99c71c2d190e4676b4dbac2a7a63a2e9": {
          "model_module": "@jupyter-widgets/controls",
          "model_name": "HTMLModel",
          "model_module_version": "1.5.0",
          "state": {
            "_dom_classes": [],
            "_model_module": "@jupyter-widgets/controls",
            "_model_module_version": "1.5.0",
            "_model_name": "HTMLModel",
            "_view_count": null,
            "_view_module": "@jupyter-widgets/controls",
            "_view_module_version": "1.5.0",
            "_view_name": "HTMLView",
            "description": "",
            "description_tooltip": null,
            "layout": "IPY_MODEL_7f0ec75423b242c78570b7cad79f5acb",
            "placeholder": "​",
            "style": "IPY_MODEL_cfb6a9e727714827b5d3dd232f142d95",
            "value": ""
          }
        },
        "70556ae55fe74e46ad6e6987807c7841": {
          "model_module": "@jupyter-widgets/controls",
          "model_name": "FloatProgressModel",
          "model_module_version": "1.5.0",
          "state": {
            "_dom_classes": [],
            "_model_module": "@jupyter-widgets/controls",
            "_model_module_version": "1.5.0",
            "_model_name": "FloatProgressModel",
            "_view_count": null,
            "_view_module": "@jupyter-widgets/controls",
            "_view_module_version": "1.5.0",
            "_view_name": "ProgressView",
            "bar_style": "success",
            "description": "",
            "description_tooltip": null,
            "layout": "IPY_MODEL_fdc119249e5b44b393c99d33b22e437e",
            "max": 1,
            "min": 0,
            "orientation": "horizontal",
            "style": "IPY_MODEL_dc1de9a3e0fb4a1e8dc2458bcad9c3b5",
            "value": 0
          }
        },
        "09a79ed8e0574d62887e60c76e59e8ef": {
          "model_module": "@jupyter-widgets/controls",
          "model_name": "HTMLModel",
          "model_module_version": "1.5.0",
          "state": {
            "_dom_classes": [],
            "_model_module": "@jupyter-widgets/controls",
            "_model_module_version": "1.5.0",
            "_model_name": "HTMLModel",
            "_view_count": null,
            "_view_module": "@jupyter-widgets/controls",
            "_view_module_version": "1.5.0",
            "_view_name": "HTMLView",
            "description": "",
            "description_tooltip": null,
            "layout": "IPY_MODEL_2bb4e0e09fae47bb884c3d2980aa5ae1",
            "placeholder": "​",
            "style": "IPY_MODEL_4696a388b3554a72b5eae8e4d11903ee",
            "value": " 0/0 [00:00&lt;?, ?it/s]"
          }
        },
        "63674eb2d07147dd8e67f862f52c2fc4": {
          "model_module": "@jupyter-widgets/base",
          "model_name": "LayoutModel",
          "model_module_version": "1.2.0",
          "state": {
            "_model_module": "@jupyter-widgets/base",
            "_model_module_version": "1.2.0",
            "_model_name": "LayoutModel",
            "_view_count": null,
            "_view_module": "@jupyter-widgets/base",
            "_view_module_version": "1.2.0",
            "_view_name": "LayoutView",
            "align_content": null,
            "align_items": null,
            "align_self": null,
            "border": null,
            "bottom": null,
            "display": null,
            "flex": null,
            "flex_flow": null,
            "grid_area": null,
            "grid_auto_columns": null,
            "grid_auto_flow": null,
            "grid_auto_rows": null,
            "grid_column": null,
            "grid_gap": null,
            "grid_row": null,
            "grid_template_areas": null,
            "grid_template_columns": null,
            "grid_template_rows": null,
            "height": null,
            "justify_content": null,
            "justify_items": null,
            "left": null,
            "margin": null,
            "max_height": null,
            "max_width": null,
            "min_height": null,
            "min_width": null,
            "object_fit": null,
            "object_position": null,
            "order": null,
            "overflow": null,
            "overflow_x": null,
            "overflow_y": null,
            "padding": null,
            "right": null,
            "top": null,
            "visibility": null,
            "width": null
          }
        },
        "7f0ec75423b242c78570b7cad79f5acb": {
          "model_module": "@jupyter-widgets/base",
          "model_name": "LayoutModel",
          "model_module_version": "1.2.0",
          "state": {
            "_model_module": "@jupyter-widgets/base",
            "_model_module_version": "1.2.0",
            "_model_name": "LayoutModel",
            "_view_count": null,
            "_view_module": "@jupyter-widgets/base",
            "_view_module_version": "1.2.0",
            "_view_name": "LayoutView",
            "align_content": null,
            "align_items": null,
            "align_self": null,
            "border": null,
            "bottom": null,
            "display": null,
            "flex": null,
            "flex_flow": null,
            "grid_area": null,
            "grid_auto_columns": null,
            "grid_auto_flow": null,
            "grid_auto_rows": null,
            "grid_column": null,
            "grid_gap": null,
            "grid_row": null,
            "grid_template_areas": null,
            "grid_template_columns": null,
            "grid_template_rows": null,
            "height": null,
            "justify_content": null,
            "justify_items": null,
            "left": null,
            "margin": null,
            "max_height": null,
            "max_width": null,
            "min_height": null,
            "min_width": null,
            "object_fit": null,
            "object_position": null,
            "order": null,
            "overflow": null,
            "overflow_x": null,
            "overflow_y": null,
            "padding": null,
            "right": null,
            "top": null,
            "visibility": null,
            "width": null
          }
        },
        "cfb6a9e727714827b5d3dd232f142d95": {
          "model_module": "@jupyter-widgets/controls",
          "model_name": "DescriptionStyleModel",
          "model_module_version": "1.5.0",
          "state": {
            "_model_module": "@jupyter-widgets/controls",
            "_model_module_version": "1.5.0",
            "_model_name": "DescriptionStyleModel",
            "_view_count": null,
            "_view_module": "@jupyter-widgets/base",
            "_view_module_version": "1.2.0",
            "_view_name": "StyleView",
            "description_width": ""
          }
        },
        "fdc119249e5b44b393c99d33b22e437e": {
          "model_module": "@jupyter-widgets/base",
          "model_name": "LayoutModel",
          "model_module_version": "1.2.0",
          "state": {
            "_model_module": "@jupyter-widgets/base",
            "_model_module_version": "1.2.0",
            "_model_name": "LayoutModel",
            "_view_count": null,
            "_view_module": "@jupyter-widgets/base",
            "_view_module_version": "1.2.0",
            "_view_name": "LayoutView",
            "align_content": null,
            "align_items": null,
            "align_self": null,
            "border": null,
            "bottom": null,
            "display": null,
            "flex": null,
            "flex_flow": null,
            "grid_area": null,
            "grid_auto_columns": null,
            "grid_auto_flow": null,
            "grid_auto_rows": null,
            "grid_column": null,
            "grid_gap": null,
            "grid_row": null,
            "grid_template_areas": null,
            "grid_template_columns": null,
            "grid_template_rows": null,
            "height": null,
            "justify_content": null,
            "justify_items": null,
            "left": null,
            "margin": null,
            "max_height": null,
            "max_width": null,
            "min_height": null,
            "min_width": null,
            "object_fit": null,
            "object_position": null,
            "order": null,
            "overflow": null,
            "overflow_x": null,
            "overflow_y": null,
            "padding": null,
            "right": null,
            "top": null,
            "visibility": null,
            "width": "20px"
          }
        },
        "dc1de9a3e0fb4a1e8dc2458bcad9c3b5": {
          "model_module": "@jupyter-widgets/controls",
          "model_name": "ProgressStyleModel",
          "model_module_version": "1.5.0",
          "state": {
            "_model_module": "@jupyter-widgets/controls",
            "_model_module_version": "1.5.0",
            "_model_name": "ProgressStyleModel",
            "_view_count": null,
            "_view_module": "@jupyter-widgets/base",
            "_view_module_version": "1.2.0",
            "_view_name": "StyleView",
            "bar_color": null,
            "description_width": ""
          }
        },
        "2bb4e0e09fae47bb884c3d2980aa5ae1": {
          "model_module": "@jupyter-widgets/base",
          "model_name": "LayoutModel",
          "model_module_version": "1.2.0",
          "state": {
            "_model_module": "@jupyter-widgets/base",
            "_model_module_version": "1.2.0",
            "_model_name": "LayoutModel",
            "_view_count": null,
            "_view_module": "@jupyter-widgets/base",
            "_view_module_version": "1.2.0",
            "_view_name": "LayoutView",
            "align_content": null,
            "align_items": null,
            "align_self": null,
            "border": null,
            "bottom": null,
            "display": null,
            "flex": null,
            "flex_flow": null,
            "grid_area": null,
            "grid_auto_columns": null,
            "grid_auto_flow": null,
            "grid_auto_rows": null,
            "grid_column": null,
            "grid_gap": null,
            "grid_row": null,
            "grid_template_areas": null,
            "grid_template_columns": null,
            "grid_template_rows": null,
            "height": null,
            "justify_content": null,
            "justify_items": null,
            "left": null,
            "margin": null,
            "max_height": null,
            "max_width": null,
            "min_height": null,
            "min_width": null,
            "object_fit": null,
            "object_position": null,
            "order": null,
            "overflow": null,
            "overflow_x": null,
            "overflow_y": null,
            "padding": null,
            "right": null,
            "top": null,
            "visibility": null,
            "width": null
          }
        },
        "4696a388b3554a72b5eae8e4d11903ee": {
          "model_module": "@jupyter-widgets/controls",
          "model_name": "DescriptionStyleModel",
          "model_module_version": "1.5.0",
          "state": {
            "_model_module": "@jupyter-widgets/controls",
            "_model_module_version": "1.5.0",
            "_model_name": "DescriptionStyleModel",
            "_view_count": null,
            "_view_module": "@jupyter-widgets/base",
            "_view_module_version": "1.2.0",
            "_view_name": "StyleView",
            "description_width": ""
          }
        },
        "3421ee74745a4adb8f8ffbba4b7aa88d": {
          "model_module": "@jupyter-widgets/controls",
          "model_name": "HBoxModel",
          "model_module_version": "1.5.0",
          "state": {
            "_dom_classes": [],
            "_model_module": "@jupyter-widgets/controls",
            "_model_module_version": "1.5.0",
            "_model_name": "HBoxModel",
            "_view_count": null,
            "_view_module": "@jupyter-widgets/controls",
            "_view_module_version": "1.5.0",
            "_view_name": "HBoxView",
            "box_style": "",
            "children": [
              "IPY_MODEL_821803b4243b4e22b0dd1613ff617642",
              "IPY_MODEL_48b9996fbe1d4774963c99aaa6edd194",
              "IPY_MODEL_7d953a832630469dbfe46042e3b71cd9"
            ],
            "layout": "IPY_MODEL_69bb8aa324274d9ca5c84670bfb68ac4"
          }
        },
        "821803b4243b4e22b0dd1613ff617642": {
          "model_module": "@jupyter-widgets/controls",
          "model_name": "HTMLModel",
          "model_module_version": "1.5.0",
          "state": {
            "_dom_classes": [],
            "_model_module": "@jupyter-widgets/controls",
            "_model_module_version": "1.5.0",
            "_model_name": "HTMLModel",
            "_view_count": null,
            "_view_module": "@jupyter-widgets/controls",
            "_view_module_version": "1.5.0",
            "_view_name": "HTMLView",
            "description": "",
            "description_tooltip": null,
            "layout": "IPY_MODEL_6dd23075050943ef91bb8f8f103add04",
            "placeholder": "​",
            "style": "IPY_MODEL_10f0a623525d4975b4dcb0efdaaf3ebf",
            "value": ""
          }
        },
        "48b9996fbe1d4774963c99aaa6edd194": {
          "model_module": "@jupyter-widgets/controls",
          "model_name": "FloatProgressModel",
          "model_module_version": "1.5.0",
          "state": {
            "_dom_classes": [],
            "_model_module": "@jupyter-widgets/controls",
            "_model_module_version": "1.5.0",
            "_model_name": "FloatProgressModel",
            "_view_count": null,
            "_view_module": "@jupyter-widgets/controls",
            "_view_module_version": "1.5.0",
            "_view_name": "ProgressView",
            "bar_style": "success",
            "description": "",
            "description_tooltip": null,
            "layout": "IPY_MODEL_3afa93322d8c4788b265555a73ef97e7",
            "max": 1,
            "min": 0,
            "orientation": "horizontal",
            "style": "IPY_MODEL_4e8d7ffd599849268526d8b8160677d8",
            "value": 0
          }
        },
        "7d953a832630469dbfe46042e3b71cd9": {
          "model_module": "@jupyter-widgets/controls",
          "model_name": "HTMLModel",
          "model_module_version": "1.5.0",
          "state": {
            "_dom_classes": [],
            "_model_module": "@jupyter-widgets/controls",
            "_model_module_version": "1.5.0",
            "_model_name": "HTMLModel",
            "_view_count": null,
            "_view_module": "@jupyter-widgets/controls",
            "_view_module_version": "1.5.0",
            "_view_name": "HTMLView",
            "description": "",
            "description_tooltip": null,
            "layout": "IPY_MODEL_0e7cbda4408c463db92d466ab576bc0a",
            "placeholder": "​",
            "style": "IPY_MODEL_f2fbd1938f5e4f02a770b8f82494aa25",
            "value": " 0/0 [00:00&lt;?, ?it/s]"
          }
        },
        "69bb8aa324274d9ca5c84670bfb68ac4": {
          "model_module": "@jupyter-widgets/base",
          "model_name": "LayoutModel",
          "model_module_version": "1.2.0",
          "state": {
            "_model_module": "@jupyter-widgets/base",
            "_model_module_version": "1.2.0",
            "_model_name": "LayoutModel",
            "_view_count": null,
            "_view_module": "@jupyter-widgets/base",
            "_view_module_version": "1.2.0",
            "_view_name": "LayoutView",
            "align_content": null,
            "align_items": null,
            "align_self": null,
            "border": null,
            "bottom": null,
            "display": null,
            "flex": null,
            "flex_flow": null,
            "grid_area": null,
            "grid_auto_columns": null,
            "grid_auto_flow": null,
            "grid_auto_rows": null,
            "grid_column": null,
            "grid_gap": null,
            "grid_row": null,
            "grid_template_areas": null,
            "grid_template_columns": null,
            "grid_template_rows": null,
            "height": null,
            "justify_content": null,
            "justify_items": null,
            "left": null,
            "margin": null,
            "max_height": null,
            "max_width": null,
            "min_height": null,
            "min_width": null,
            "object_fit": null,
            "object_position": null,
            "order": null,
            "overflow": null,
            "overflow_x": null,
            "overflow_y": null,
            "padding": null,
            "right": null,
            "top": null,
            "visibility": null,
            "width": null
          }
        },
        "6dd23075050943ef91bb8f8f103add04": {
          "model_module": "@jupyter-widgets/base",
          "model_name": "LayoutModel",
          "model_module_version": "1.2.0",
          "state": {
            "_model_module": "@jupyter-widgets/base",
            "_model_module_version": "1.2.0",
            "_model_name": "LayoutModel",
            "_view_count": null,
            "_view_module": "@jupyter-widgets/base",
            "_view_module_version": "1.2.0",
            "_view_name": "LayoutView",
            "align_content": null,
            "align_items": null,
            "align_self": null,
            "border": null,
            "bottom": null,
            "display": null,
            "flex": null,
            "flex_flow": null,
            "grid_area": null,
            "grid_auto_columns": null,
            "grid_auto_flow": null,
            "grid_auto_rows": null,
            "grid_column": null,
            "grid_gap": null,
            "grid_row": null,
            "grid_template_areas": null,
            "grid_template_columns": null,
            "grid_template_rows": null,
            "height": null,
            "justify_content": null,
            "justify_items": null,
            "left": null,
            "margin": null,
            "max_height": null,
            "max_width": null,
            "min_height": null,
            "min_width": null,
            "object_fit": null,
            "object_position": null,
            "order": null,
            "overflow": null,
            "overflow_x": null,
            "overflow_y": null,
            "padding": null,
            "right": null,
            "top": null,
            "visibility": null,
            "width": null
          }
        },
        "10f0a623525d4975b4dcb0efdaaf3ebf": {
          "model_module": "@jupyter-widgets/controls",
          "model_name": "DescriptionStyleModel",
          "model_module_version": "1.5.0",
          "state": {
            "_model_module": "@jupyter-widgets/controls",
            "_model_module_version": "1.5.0",
            "_model_name": "DescriptionStyleModel",
            "_view_count": null,
            "_view_module": "@jupyter-widgets/base",
            "_view_module_version": "1.2.0",
            "_view_name": "StyleView",
            "description_width": ""
          }
        },
        "3afa93322d8c4788b265555a73ef97e7": {
          "model_module": "@jupyter-widgets/base",
          "model_name": "LayoutModel",
          "model_module_version": "1.2.0",
          "state": {
            "_model_module": "@jupyter-widgets/base",
            "_model_module_version": "1.2.0",
            "_model_name": "LayoutModel",
            "_view_count": null,
            "_view_module": "@jupyter-widgets/base",
            "_view_module_version": "1.2.0",
            "_view_name": "LayoutView",
            "align_content": null,
            "align_items": null,
            "align_self": null,
            "border": null,
            "bottom": null,
            "display": null,
            "flex": null,
            "flex_flow": null,
            "grid_area": null,
            "grid_auto_columns": null,
            "grid_auto_flow": null,
            "grid_auto_rows": null,
            "grid_column": null,
            "grid_gap": null,
            "grid_row": null,
            "grid_template_areas": null,
            "grid_template_columns": null,
            "grid_template_rows": null,
            "height": null,
            "justify_content": null,
            "justify_items": null,
            "left": null,
            "margin": null,
            "max_height": null,
            "max_width": null,
            "min_height": null,
            "min_width": null,
            "object_fit": null,
            "object_position": null,
            "order": null,
            "overflow": null,
            "overflow_x": null,
            "overflow_y": null,
            "padding": null,
            "right": null,
            "top": null,
            "visibility": null,
            "width": "20px"
          }
        },
        "4e8d7ffd599849268526d8b8160677d8": {
          "model_module": "@jupyter-widgets/controls",
          "model_name": "ProgressStyleModel",
          "model_module_version": "1.5.0",
          "state": {
            "_model_module": "@jupyter-widgets/controls",
            "_model_module_version": "1.5.0",
            "_model_name": "ProgressStyleModel",
            "_view_count": null,
            "_view_module": "@jupyter-widgets/base",
            "_view_module_version": "1.2.0",
            "_view_name": "StyleView",
            "bar_color": null,
            "description_width": ""
          }
        },
        "0e7cbda4408c463db92d466ab576bc0a": {
          "model_module": "@jupyter-widgets/base",
          "model_name": "LayoutModel",
          "model_module_version": "1.2.0",
          "state": {
            "_model_module": "@jupyter-widgets/base",
            "_model_module_version": "1.2.0",
            "_model_name": "LayoutModel",
            "_view_count": null,
            "_view_module": "@jupyter-widgets/base",
            "_view_module_version": "1.2.0",
            "_view_name": "LayoutView",
            "align_content": null,
            "align_items": null,
            "align_self": null,
            "border": null,
            "bottom": null,
            "display": null,
            "flex": null,
            "flex_flow": null,
            "grid_area": null,
            "grid_auto_columns": null,
            "grid_auto_flow": null,
            "grid_auto_rows": null,
            "grid_column": null,
            "grid_gap": null,
            "grid_row": null,
            "grid_template_areas": null,
            "grid_template_columns": null,
            "grid_template_rows": null,
            "height": null,
            "justify_content": null,
            "justify_items": null,
            "left": null,
            "margin": null,
            "max_height": null,
            "max_width": null,
            "min_height": null,
            "min_width": null,
            "object_fit": null,
            "object_position": null,
            "order": null,
            "overflow": null,
            "overflow_x": null,
            "overflow_y": null,
            "padding": null,
            "right": null,
            "top": null,
            "visibility": null,
            "width": null
          }
        },
        "f2fbd1938f5e4f02a770b8f82494aa25": {
          "model_module": "@jupyter-widgets/controls",
          "model_name": "DescriptionStyleModel",
          "model_module_version": "1.5.0",
          "state": {
            "_model_module": "@jupyter-widgets/controls",
            "_model_module_version": "1.5.0",
            "_model_name": "DescriptionStyleModel",
            "_view_count": null,
            "_view_module": "@jupyter-widgets/base",
            "_view_module_version": "1.2.0",
            "_view_name": "StyleView",
            "description_width": ""
          }
        },
        "86a4b19e8e434ae686604d0ca9f53012": {
          "model_module": "@jupyter-widgets/controls",
          "model_name": "HBoxModel",
          "model_module_version": "1.5.0",
          "state": {
            "_dom_classes": [],
            "_model_module": "@jupyter-widgets/controls",
            "_model_module_version": "1.5.0",
            "_model_name": "HBoxModel",
            "_view_count": null,
            "_view_module": "@jupyter-widgets/controls",
            "_view_module_version": "1.5.0",
            "_view_name": "HBoxView",
            "box_style": "",
            "children": [
              "IPY_MODEL_523cd08d4ff241f5834dc3d5e30637e3",
              "IPY_MODEL_aa07a0849d53437dabb995bee876d443",
              "IPY_MODEL_383f90b5644c496eb6215d45de896d47"
            ],
            "layout": "IPY_MODEL_1e66542bc4994fdf8c5591ffd0f249eb"
          }
        },
        "523cd08d4ff241f5834dc3d5e30637e3": {
          "model_module": "@jupyter-widgets/controls",
          "model_name": "HTMLModel",
          "model_module_version": "1.5.0",
          "state": {
            "_dom_classes": [],
            "_model_module": "@jupyter-widgets/controls",
            "_model_module_version": "1.5.0",
            "_model_name": "HTMLModel",
            "_view_count": null,
            "_view_module": "@jupyter-widgets/controls",
            "_view_module_version": "1.5.0",
            "_view_name": "HTMLView",
            "description": "",
            "description_tooltip": null,
            "layout": "IPY_MODEL_19e949e77d554028a74ee5513218015b",
            "placeholder": "​",
            "style": "IPY_MODEL_3737dffbb1aa4e9cae9c4a45f6a72e7c",
            "value": ""
          }
        },
        "aa07a0849d53437dabb995bee876d443": {
          "model_module": "@jupyter-widgets/controls",
          "model_name": "FloatProgressModel",
          "model_module_version": "1.5.0",
          "state": {
            "_dom_classes": [],
            "_model_module": "@jupyter-widgets/controls",
            "_model_module_version": "1.5.0",
            "_model_name": "FloatProgressModel",
            "_view_count": null,
            "_view_module": "@jupyter-widgets/controls",
            "_view_module_version": "1.5.0",
            "_view_name": "ProgressView",
            "bar_style": "success",
            "description": "",
            "description_tooltip": null,
            "layout": "IPY_MODEL_dd0d6ad6031f469da4efd46aae381cee",
            "max": 1,
            "min": 0,
            "orientation": "horizontal",
            "style": "IPY_MODEL_2db420c5577546569b357db4d3e1b105",
            "value": 0
          }
        },
        "383f90b5644c496eb6215d45de896d47": {
          "model_module": "@jupyter-widgets/controls",
          "model_name": "HTMLModel",
          "model_module_version": "1.5.0",
          "state": {
            "_dom_classes": [],
            "_model_module": "@jupyter-widgets/controls",
            "_model_module_version": "1.5.0",
            "_model_name": "HTMLModel",
            "_view_count": null,
            "_view_module": "@jupyter-widgets/controls",
            "_view_module_version": "1.5.0",
            "_view_name": "HTMLView",
            "description": "",
            "description_tooltip": null,
            "layout": "IPY_MODEL_e8059bdb951e45babb1779d462539595",
            "placeholder": "​",
            "style": "IPY_MODEL_2e24e3bb60ea4c3682b9831f083102ce",
            "value": " 0/0 [00:00&lt;?, ?it/s]"
          }
        },
        "1e66542bc4994fdf8c5591ffd0f249eb": {
          "model_module": "@jupyter-widgets/base",
          "model_name": "LayoutModel",
          "model_module_version": "1.2.0",
          "state": {
            "_model_module": "@jupyter-widgets/base",
            "_model_module_version": "1.2.0",
            "_model_name": "LayoutModel",
            "_view_count": null,
            "_view_module": "@jupyter-widgets/base",
            "_view_module_version": "1.2.0",
            "_view_name": "LayoutView",
            "align_content": null,
            "align_items": null,
            "align_self": null,
            "border": null,
            "bottom": null,
            "display": null,
            "flex": null,
            "flex_flow": null,
            "grid_area": null,
            "grid_auto_columns": null,
            "grid_auto_flow": null,
            "grid_auto_rows": null,
            "grid_column": null,
            "grid_gap": null,
            "grid_row": null,
            "grid_template_areas": null,
            "grid_template_columns": null,
            "grid_template_rows": null,
            "height": null,
            "justify_content": null,
            "justify_items": null,
            "left": null,
            "margin": null,
            "max_height": null,
            "max_width": null,
            "min_height": null,
            "min_width": null,
            "object_fit": null,
            "object_position": null,
            "order": null,
            "overflow": null,
            "overflow_x": null,
            "overflow_y": null,
            "padding": null,
            "right": null,
            "top": null,
            "visibility": null,
            "width": null
          }
        },
        "19e949e77d554028a74ee5513218015b": {
          "model_module": "@jupyter-widgets/base",
          "model_name": "LayoutModel",
          "model_module_version": "1.2.0",
          "state": {
            "_model_module": "@jupyter-widgets/base",
            "_model_module_version": "1.2.0",
            "_model_name": "LayoutModel",
            "_view_count": null,
            "_view_module": "@jupyter-widgets/base",
            "_view_module_version": "1.2.0",
            "_view_name": "LayoutView",
            "align_content": null,
            "align_items": null,
            "align_self": null,
            "border": null,
            "bottom": null,
            "display": null,
            "flex": null,
            "flex_flow": null,
            "grid_area": null,
            "grid_auto_columns": null,
            "grid_auto_flow": null,
            "grid_auto_rows": null,
            "grid_column": null,
            "grid_gap": null,
            "grid_row": null,
            "grid_template_areas": null,
            "grid_template_columns": null,
            "grid_template_rows": null,
            "height": null,
            "justify_content": null,
            "justify_items": null,
            "left": null,
            "margin": null,
            "max_height": null,
            "max_width": null,
            "min_height": null,
            "min_width": null,
            "object_fit": null,
            "object_position": null,
            "order": null,
            "overflow": null,
            "overflow_x": null,
            "overflow_y": null,
            "padding": null,
            "right": null,
            "top": null,
            "visibility": null,
            "width": null
          }
        },
        "3737dffbb1aa4e9cae9c4a45f6a72e7c": {
          "model_module": "@jupyter-widgets/controls",
          "model_name": "DescriptionStyleModel",
          "model_module_version": "1.5.0",
          "state": {
            "_model_module": "@jupyter-widgets/controls",
            "_model_module_version": "1.5.0",
            "_model_name": "DescriptionStyleModel",
            "_view_count": null,
            "_view_module": "@jupyter-widgets/base",
            "_view_module_version": "1.2.0",
            "_view_name": "StyleView",
            "description_width": ""
          }
        },
        "dd0d6ad6031f469da4efd46aae381cee": {
          "model_module": "@jupyter-widgets/base",
          "model_name": "LayoutModel",
          "model_module_version": "1.2.0",
          "state": {
            "_model_module": "@jupyter-widgets/base",
            "_model_module_version": "1.2.0",
            "_model_name": "LayoutModel",
            "_view_count": null,
            "_view_module": "@jupyter-widgets/base",
            "_view_module_version": "1.2.0",
            "_view_name": "LayoutView",
            "align_content": null,
            "align_items": null,
            "align_self": null,
            "border": null,
            "bottom": null,
            "display": null,
            "flex": null,
            "flex_flow": null,
            "grid_area": null,
            "grid_auto_columns": null,
            "grid_auto_flow": null,
            "grid_auto_rows": null,
            "grid_column": null,
            "grid_gap": null,
            "grid_row": null,
            "grid_template_areas": null,
            "grid_template_columns": null,
            "grid_template_rows": null,
            "height": null,
            "justify_content": null,
            "justify_items": null,
            "left": null,
            "margin": null,
            "max_height": null,
            "max_width": null,
            "min_height": null,
            "min_width": null,
            "object_fit": null,
            "object_position": null,
            "order": null,
            "overflow": null,
            "overflow_x": null,
            "overflow_y": null,
            "padding": null,
            "right": null,
            "top": null,
            "visibility": null,
            "width": "20px"
          }
        },
        "2db420c5577546569b357db4d3e1b105": {
          "model_module": "@jupyter-widgets/controls",
          "model_name": "ProgressStyleModel",
          "model_module_version": "1.5.0",
          "state": {
            "_model_module": "@jupyter-widgets/controls",
            "_model_module_version": "1.5.0",
            "_model_name": "ProgressStyleModel",
            "_view_count": null,
            "_view_module": "@jupyter-widgets/base",
            "_view_module_version": "1.2.0",
            "_view_name": "StyleView",
            "bar_color": null,
            "description_width": ""
          }
        },
        "e8059bdb951e45babb1779d462539595": {
          "model_module": "@jupyter-widgets/base",
          "model_name": "LayoutModel",
          "model_module_version": "1.2.0",
          "state": {
            "_model_module": "@jupyter-widgets/base",
            "_model_module_version": "1.2.0",
            "_model_name": "LayoutModel",
            "_view_count": null,
            "_view_module": "@jupyter-widgets/base",
            "_view_module_version": "1.2.0",
            "_view_name": "LayoutView",
            "align_content": null,
            "align_items": null,
            "align_self": null,
            "border": null,
            "bottom": null,
            "display": null,
            "flex": null,
            "flex_flow": null,
            "grid_area": null,
            "grid_auto_columns": null,
            "grid_auto_flow": null,
            "grid_auto_rows": null,
            "grid_column": null,
            "grid_gap": null,
            "grid_row": null,
            "grid_template_areas": null,
            "grid_template_columns": null,
            "grid_template_rows": null,
            "height": null,
            "justify_content": null,
            "justify_items": null,
            "left": null,
            "margin": null,
            "max_height": null,
            "max_width": null,
            "min_height": null,
            "min_width": null,
            "object_fit": null,
            "object_position": null,
            "order": null,
            "overflow": null,
            "overflow_x": null,
            "overflow_y": null,
            "padding": null,
            "right": null,
            "top": null,
            "visibility": null,
            "width": null
          }
        },
        "2e24e3bb60ea4c3682b9831f083102ce": {
          "model_module": "@jupyter-widgets/controls",
          "model_name": "DescriptionStyleModel",
          "model_module_version": "1.5.0",
          "state": {
            "_model_module": "@jupyter-widgets/controls",
            "_model_module_version": "1.5.0",
            "_model_name": "DescriptionStyleModel",
            "_view_count": null,
            "_view_module": "@jupyter-widgets/base",
            "_view_module_version": "1.2.0",
            "_view_name": "StyleView",
            "description_width": ""
          }
        },
        "81577e67243f4a76b1b5cf6807d144b0": {
          "model_module": "@jupyter-widgets/controls",
          "model_name": "HBoxModel",
          "model_module_version": "1.5.0",
          "state": {
            "_dom_classes": [],
            "_model_module": "@jupyter-widgets/controls",
            "_model_module_version": "1.5.0",
            "_model_name": "HBoxModel",
            "_view_count": null,
            "_view_module": "@jupyter-widgets/controls",
            "_view_module_version": "1.5.0",
            "_view_name": "HBoxView",
            "box_style": "",
            "children": [
              "IPY_MODEL_2ae84bebbf42404c862d0bb7cd4848d9",
              "IPY_MODEL_5bd740811ae743d6b8fe28f1e1cc42bc",
              "IPY_MODEL_465821a4c5f8491bb3bd844d676a1990"
            ],
            "layout": "IPY_MODEL_52977ee7badd4cc5ad0da4fd949e6ef4"
          }
        },
        "2ae84bebbf42404c862d0bb7cd4848d9": {
          "model_module": "@jupyter-widgets/controls",
          "model_name": "HTMLModel",
          "model_module_version": "1.5.0",
          "state": {
            "_dom_classes": [],
            "_model_module": "@jupyter-widgets/controls",
            "_model_module_version": "1.5.0",
            "_model_name": "HTMLModel",
            "_view_count": null,
            "_view_module": "@jupyter-widgets/controls",
            "_view_module_version": "1.5.0",
            "_view_name": "HTMLView",
            "description": "",
            "description_tooltip": null,
            "layout": "IPY_MODEL_b149ea65ff944a47ba488d24b04d48fe",
            "placeholder": "​",
            "style": "IPY_MODEL_9856a21b5b544ec7b607fbb188bc0e4a",
            "value": ""
          }
        },
        "5bd740811ae743d6b8fe28f1e1cc42bc": {
          "model_module": "@jupyter-widgets/controls",
          "model_name": "FloatProgressModel",
          "model_module_version": "1.5.0",
          "state": {
            "_dom_classes": [],
            "_model_module": "@jupyter-widgets/controls",
            "_model_module_version": "1.5.0",
            "_model_name": "FloatProgressModel",
            "_view_count": null,
            "_view_module": "@jupyter-widgets/controls",
            "_view_module_version": "1.5.0",
            "_view_name": "ProgressView",
            "bar_style": "success",
            "description": "",
            "description_tooltip": null,
            "layout": "IPY_MODEL_2b0a617d5fd84edc86f7b2a06f21e7f3",
            "max": 1,
            "min": 0,
            "orientation": "horizontal",
            "style": "IPY_MODEL_d9ab3dc78709400c8f62de0cae0bd662",
            "value": 0
          }
        },
        "465821a4c5f8491bb3bd844d676a1990": {
          "model_module": "@jupyter-widgets/controls",
          "model_name": "HTMLModel",
          "model_module_version": "1.5.0",
          "state": {
            "_dom_classes": [],
            "_model_module": "@jupyter-widgets/controls",
            "_model_module_version": "1.5.0",
            "_model_name": "HTMLModel",
            "_view_count": null,
            "_view_module": "@jupyter-widgets/controls",
            "_view_module_version": "1.5.0",
            "_view_name": "HTMLView",
            "description": "",
            "description_tooltip": null,
            "layout": "IPY_MODEL_f2613309c47e4424b9f0a6a76c8d48f1",
            "placeholder": "​",
            "style": "IPY_MODEL_c8b189a0e96b4431b831acdea5ab33d6",
            "value": " 0/0 [00:00&lt;?, ?it/s]"
          }
        },
        "52977ee7badd4cc5ad0da4fd949e6ef4": {
          "model_module": "@jupyter-widgets/base",
          "model_name": "LayoutModel",
          "model_module_version": "1.2.0",
          "state": {
            "_model_module": "@jupyter-widgets/base",
            "_model_module_version": "1.2.0",
            "_model_name": "LayoutModel",
            "_view_count": null,
            "_view_module": "@jupyter-widgets/base",
            "_view_module_version": "1.2.0",
            "_view_name": "LayoutView",
            "align_content": null,
            "align_items": null,
            "align_self": null,
            "border": null,
            "bottom": null,
            "display": null,
            "flex": null,
            "flex_flow": null,
            "grid_area": null,
            "grid_auto_columns": null,
            "grid_auto_flow": null,
            "grid_auto_rows": null,
            "grid_column": null,
            "grid_gap": null,
            "grid_row": null,
            "grid_template_areas": null,
            "grid_template_columns": null,
            "grid_template_rows": null,
            "height": null,
            "justify_content": null,
            "justify_items": null,
            "left": null,
            "margin": null,
            "max_height": null,
            "max_width": null,
            "min_height": null,
            "min_width": null,
            "object_fit": null,
            "object_position": null,
            "order": null,
            "overflow": null,
            "overflow_x": null,
            "overflow_y": null,
            "padding": null,
            "right": null,
            "top": null,
            "visibility": null,
            "width": null
          }
        },
        "b149ea65ff944a47ba488d24b04d48fe": {
          "model_module": "@jupyter-widgets/base",
          "model_name": "LayoutModel",
          "model_module_version": "1.2.0",
          "state": {
            "_model_module": "@jupyter-widgets/base",
            "_model_module_version": "1.2.0",
            "_model_name": "LayoutModel",
            "_view_count": null,
            "_view_module": "@jupyter-widgets/base",
            "_view_module_version": "1.2.0",
            "_view_name": "LayoutView",
            "align_content": null,
            "align_items": null,
            "align_self": null,
            "border": null,
            "bottom": null,
            "display": null,
            "flex": null,
            "flex_flow": null,
            "grid_area": null,
            "grid_auto_columns": null,
            "grid_auto_flow": null,
            "grid_auto_rows": null,
            "grid_column": null,
            "grid_gap": null,
            "grid_row": null,
            "grid_template_areas": null,
            "grid_template_columns": null,
            "grid_template_rows": null,
            "height": null,
            "justify_content": null,
            "justify_items": null,
            "left": null,
            "margin": null,
            "max_height": null,
            "max_width": null,
            "min_height": null,
            "min_width": null,
            "object_fit": null,
            "object_position": null,
            "order": null,
            "overflow": null,
            "overflow_x": null,
            "overflow_y": null,
            "padding": null,
            "right": null,
            "top": null,
            "visibility": null,
            "width": null
          }
        },
        "9856a21b5b544ec7b607fbb188bc0e4a": {
          "model_module": "@jupyter-widgets/controls",
          "model_name": "DescriptionStyleModel",
          "model_module_version": "1.5.0",
          "state": {
            "_model_module": "@jupyter-widgets/controls",
            "_model_module_version": "1.5.0",
            "_model_name": "DescriptionStyleModel",
            "_view_count": null,
            "_view_module": "@jupyter-widgets/base",
            "_view_module_version": "1.2.0",
            "_view_name": "StyleView",
            "description_width": ""
          }
        },
        "2b0a617d5fd84edc86f7b2a06f21e7f3": {
          "model_module": "@jupyter-widgets/base",
          "model_name": "LayoutModel",
          "model_module_version": "1.2.0",
          "state": {
            "_model_module": "@jupyter-widgets/base",
            "_model_module_version": "1.2.0",
            "_model_name": "LayoutModel",
            "_view_count": null,
            "_view_module": "@jupyter-widgets/base",
            "_view_module_version": "1.2.0",
            "_view_name": "LayoutView",
            "align_content": null,
            "align_items": null,
            "align_self": null,
            "border": null,
            "bottom": null,
            "display": null,
            "flex": null,
            "flex_flow": null,
            "grid_area": null,
            "grid_auto_columns": null,
            "grid_auto_flow": null,
            "grid_auto_rows": null,
            "grid_column": null,
            "grid_gap": null,
            "grid_row": null,
            "grid_template_areas": null,
            "grid_template_columns": null,
            "grid_template_rows": null,
            "height": null,
            "justify_content": null,
            "justify_items": null,
            "left": null,
            "margin": null,
            "max_height": null,
            "max_width": null,
            "min_height": null,
            "min_width": null,
            "object_fit": null,
            "object_position": null,
            "order": null,
            "overflow": null,
            "overflow_x": null,
            "overflow_y": null,
            "padding": null,
            "right": null,
            "top": null,
            "visibility": null,
            "width": "20px"
          }
        },
        "d9ab3dc78709400c8f62de0cae0bd662": {
          "model_module": "@jupyter-widgets/controls",
          "model_name": "ProgressStyleModel",
          "model_module_version": "1.5.0",
          "state": {
            "_model_module": "@jupyter-widgets/controls",
            "_model_module_version": "1.5.0",
            "_model_name": "ProgressStyleModel",
            "_view_count": null,
            "_view_module": "@jupyter-widgets/base",
            "_view_module_version": "1.2.0",
            "_view_name": "StyleView",
            "bar_color": null,
            "description_width": ""
          }
        },
        "f2613309c47e4424b9f0a6a76c8d48f1": {
          "model_module": "@jupyter-widgets/base",
          "model_name": "LayoutModel",
          "model_module_version": "1.2.0",
          "state": {
            "_model_module": "@jupyter-widgets/base",
            "_model_module_version": "1.2.0",
            "_model_name": "LayoutModel",
            "_view_count": null,
            "_view_module": "@jupyter-widgets/base",
            "_view_module_version": "1.2.0",
            "_view_name": "LayoutView",
            "align_content": null,
            "align_items": null,
            "align_self": null,
            "border": null,
            "bottom": null,
            "display": null,
            "flex": null,
            "flex_flow": null,
            "grid_area": null,
            "grid_auto_columns": null,
            "grid_auto_flow": null,
            "grid_auto_rows": null,
            "grid_column": null,
            "grid_gap": null,
            "grid_row": null,
            "grid_template_areas": null,
            "grid_template_columns": null,
            "grid_template_rows": null,
            "height": null,
            "justify_content": null,
            "justify_items": null,
            "left": null,
            "margin": null,
            "max_height": null,
            "max_width": null,
            "min_height": null,
            "min_width": null,
            "object_fit": null,
            "object_position": null,
            "order": null,
            "overflow": null,
            "overflow_x": null,
            "overflow_y": null,
            "padding": null,
            "right": null,
            "top": null,
            "visibility": null,
            "width": null
          }
        },
        "c8b189a0e96b4431b831acdea5ab33d6": {
          "model_module": "@jupyter-widgets/controls",
          "model_name": "DescriptionStyleModel",
          "model_module_version": "1.5.0",
          "state": {
            "_model_module": "@jupyter-widgets/controls",
            "_model_module_version": "1.5.0",
            "_model_name": "DescriptionStyleModel",
            "_view_count": null,
            "_view_module": "@jupyter-widgets/base",
            "_view_module_version": "1.2.0",
            "_view_name": "StyleView",
            "description_width": ""
          }
        }
      }
    }
  },
  "nbformat": 4,
  "nbformat_minor": 5
}